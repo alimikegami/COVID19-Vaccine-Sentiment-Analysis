{
 "cells": [
  {
   "cell_type": "markdown",
   "metadata": {},
   "source": [
    "# COVID-19 Vaccine Sentiment Analysis"
   ]
  },
  {
   "cell_type": "markdown",
   "metadata": {},
   "source": [
    "## The Author\n",
    "Author: Alim Ikegami\n",
    "\n",
    "## Sentiment Analysis\n",
    "Sentiment analysis is used to extracts the public's opinion about certain action/product to help the institution behind that particular action/product to understand how people perceive certain action/product.\n",
    "\n",
    "## The Data\n",
    "source: https://www.kaggle.com/datasciencetool/covid19-vaccine-tweets-with-sentiment-annotation\n",
    "\n",
    "#### The Goal: Create a Machine Learning Algorithm that can predict if a tweet is positive, neutral, or negative. In the future, we could use such an algorithm to automatically read and flag tweets for the government or medical institution regarding on the opinion of general public about the vaccine. "
   ]
  },
  {
   "cell_type": "markdown",
   "metadata": {},
   "source": [
    "## Import neccessary libraries"
   ]
  },
  {
   "cell_type": "code",
   "execution_count": 1,
   "metadata": {},
   "outputs": [
    {
     "name": "stderr",
     "output_type": "stream",
     "text": [
      "[nltk_data] Downloading package stopwords to\n",
      "[nltk_data]     C:\\Users\\alimi\\AppData\\Roaming\\nltk_data...\n",
      "[nltk_data]   Package stopwords is already up-to-date!\n",
      "[nltk_data] Downloading package wordnet to\n",
      "[nltk_data]     C:\\Users\\alimi\\AppData\\Roaming\\nltk_data...\n",
      "[nltk_data]   Package wordnet is already up-to-date!\n"
     ]
    }
   ],
   "source": [
    "import pandas as pd\n",
    "import matplotlib as plt\n",
    "import seaborn as sns\n",
    "import re\n",
    "from collections import Counter\n",
    "import string\n",
    "from sklearn.model_selection import train_test_split\n",
    "from sklearn.feature_extraction.text import TfidfVectorizer\n",
    "from sklearn.svm import SVC\n",
    "from sklearn.metrics import classification_report\n",
    "import nltk\n",
    "from nltk.corpus import stopwords\n",
    "from nltk.stem import PorterStemmer\n",
    "from nltk.stem import WordNetLemmatizer\n",
    "\n",
    "nltk.download('stopwords')\n",
    "nltk.download('wordnet')\n",
    "\n",
    "pd.options.display.max_colwidth = 200"
   ]
  },
  {
   "cell_type": "code",
   "execution_count": 2,
   "metadata": {},
   "outputs": [],
   "source": [
    "# Reading the dataset\n",
    "df = pd.read_csv('C:\\\\Users\\\\alimi\\\\My Python Stuff\\\\Vaccine-Sentiment-Analysis\\\\covid-19_vaccine_tweets_with_sentiment.csv', encoding=\"windows-1252\")"
   ]
  },
  {
   "cell_type": "code",
   "execution_count": 3,
   "metadata": {
    "scrolled": false
   },
   "outputs": [
    {
     "data": {
      "text/html": [
       "<div>\n",
       "<style scoped>\n",
       "    .dataframe tbody tr th:only-of-type {\n",
       "        vertical-align: middle;\n",
       "    }\n",
       "\n",
       "    .dataframe tbody tr th {\n",
       "        vertical-align: top;\n",
       "    }\n",
       "\n",
       "    .dataframe thead th {\n",
       "        text-align: right;\n",
       "    }\n",
       "</style>\n",
       "<table border=\"1\" class=\"dataframe\">\n",
       "  <thead>\n",
       "    <tr style=\"text-align: right;\">\n",
       "      <th></th>\n",
       "      <th>tweet_id</th>\n",
       "      <th>label</th>\n",
       "      <th>tweet_text</th>\n",
       "    </tr>\n",
       "  </thead>\n",
       "  <tbody>\n",
       "    <tr>\n",
       "      <th>0</th>\n",
       "      <td>1.360340e+18</td>\n",
       "      <td>1</td>\n",
       "      <td>4,000 a day dying from the so called Covid-19 \"vaccine\" @DailyBeast reports. #vaccine #PfizerVaccine #Moderna \\n\\nhttps://t.co/p1nQWWZpk4</td>\n",
       "    </tr>\n",
       "    <tr>\n",
       "      <th>1</th>\n",
       "      <td>1.382900e+18</td>\n",
       "      <td>2</td>\n",
       "      <td>Pranam message for today manifested in Dhyan by @meenapranam #truth #love #karm #light #nature #consciousness #FridayThoughts #fridaymorning #CoronavirusIndia #COVID19India #?????_???????? #navrat...</td>\n",
       "    </tr>\n",
       "    <tr>\n",
       "      <th>2</th>\n",
       "      <td>1.375670e+18</td>\n",
       "      <td>2</td>\n",
       "      <td>Hyderabad-based ?@BharatBiotech? has sought funds from the government to ramp up production of its indigenously developed Covid-19 vaccine, #Covaxin .\\nThe company has written to the ??@DBTIndia? ...</td>\n",
       "    </tr>\n",
       "    <tr>\n",
       "      <th>3</th>\n",
       "      <td>1.381310e+18</td>\n",
       "      <td>1</td>\n",
       "      <td>Confirmation that Chinese #vaccines \"don’t have very high protection rates\", according to the director of the China Centers for Disease Control, Gao Fu.\\n\\n#Sinovac effectiveness \"found to be as l...</td>\n",
       "    </tr>\n",
       "    <tr>\n",
       "      <th>4</th>\n",
       "      <td>1.362170e+18</td>\n",
       "      <td>3</td>\n",
       "      <td>Lab studies suggest #Pfizer, #Moderna vaccines can protect against #coronavirusvariant\\nhttps://t.co/NPaFA68m57</td>\n",
       "    </tr>\n",
       "  </tbody>\n",
       "</table>\n",
       "</div>"
      ],
      "text/plain": [
       "       tweet_id  label  \\\n",
       "0  1.360340e+18      1   \n",
       "1  1.382900e+18      2   \n",
       "2  1.375670e+18      2   \n",
       "3  1.381310e+18      1   \n",
       "4  1.362170e+18      3   \n",
       "\n",
       "                                                                                                                                                                                                tweet_text  \n",
       "0                                                                4,000 a day dying from the so called Covid-19 \"vaccine\" @DailyBeast reports. #vaccine #PfizerVaccine #Moderna \\n\\nhttps://t.co/p1nQWWZpk4  \n",
       "1  Pranam message for today manifested in Dhyan by @meenapranam #truth #love #karm #light #nature #consciousness #FridayThoughts #fridaymorning #CoronavirusIndia #COVID19India #?????_???????? #navrat...  \n",
       "2  Hyderabad-based ?@BharatBiotech? has sought funds from the government to ramp up production of its indigenously developed Covid-19 vaccine, #Covaxin .\\nThe company has written to the ??@DBTIndia? ...  \n",
       "3  Confirmation that Chinese #vaccines \"don’t have very high protection rates\", according to the director of the China Centers for Disease Control, Gao Fu.\\n\\n#Sinovac effectiveness \"found to be as l...  \n",
       "4                                                                                          Lab studies suggest #Pfizer, #Moderna vaccines can protect against #coronavirusvariant\\nhttps://t.co/NPaFA68m57  "
      ]
     },
     "execution_count": 3,
     "metadata": {},
     "output_type": "execute_result"
    }
   ],
   "source": [
    "df.head()"
   ]
  },
  {
   "cell_type": "markdown",
   "metadata": {},
   "source": [
    "## Cleaning textual data using regex\n",
    "\n",
    "The data that I got from kaggle still contains a lot of unnecassary data such as the link of the tweet that was presumably attached to the tweet when the scraping was done through tweepy (Twitter's API), the username of the users that are mentioned on a particular tweet, and some punctuation. So, the first thing that I'm going to do is clean the textual data."
   ]
  },
  {
   "cell_type": "code",
   "execution_count": 4,
   "metadata": {},
   "outputs": [],
   "source": [
    "# Removing the link of the tweets\n",
    "result = []\n",
    "for tweet in df['tweet_text']:\n",
    "    result.append(re.sub(r\"http\\S+\", \"\", tweet))\n",
    "df['tweet_text_without_link'] = result\n",
    "\n",
    "# removing the hash symbol on the hashtag thas was written on the tweets\n",
    "# the hastag itself is not removed as it may contain important information\n",
    "result = []\n",
    "for tweet in df['tweet_text_without_link']:\n",
    "    result.append(re.sub(r'#', \"\", tweet))\n",
    "df['tweet_text_without_hash'] = result\n",
    "\n",
    "# Removing the username of the account that are mentioned in the tweet\n",
    "# The username doesn't really matter so I decided to remove it\n",
    "result = []\n",
    "for tweet in df['tweet_text_without_hash']:\n",
    "    result.append(re.sub(r'@[^\\s]+', \"\", tweet))\n",
    "df['tweet_without_mentions'] = result\n",
    "\n",
    "# Removing the punctuation\n",
    "result = []\n",
    "for tweet in df['tweet_without_mentions']:\n",
    "    result.append(re.sub(r'[^\\w\\s]', \"\", tweet))\n",
    "df['tweet_without_punctuation'] = result\n",
    "\n",
    "# Removing the newline characters\n",
    "result = []\n",
    "for tweet in df['tweet_without_punctuation']:\n",
    "    result.append(tweet.replace('\\n',''))\n",
    "df['tweet_without_newline'] = result"
   ]
  },
  {
   "cell_type": "code",
   "execution_count": 5,
   "metadata": {},
   "outputs": [],
   "source": [
    "# Assembling the final dataframe that are going to be used on feature extraction and training\n",
    "# The final dataframe only contains the tweets which has been cleaned and the label of each tweet\n",
    "df_final = df[['tweet_without_newline', 'label']]"
   ]
  },
  {
   "cell_type": "markdown",
   "metadata": {},
   "source": [
    "## Training and testing data splitting"
   ]
  },
  {
   "cell_type": "code",
   "execution_count": 6,
   "metadata": {},
   "outputs": [],
   "source": [
    "X = df_final['tweet_without_newline']\n",
    "y = df_final['label']"
   ]
  },
  {
   "cell_type": "code",
   "execution_count": 7,
   "metadata": {},
   "outputs": [],
   "source": [
    "X_train, X_test, y_train, y_test = train_test_split(X, y, test_size=0.33, random_state=42)"
   ]
  },
  {
   "cell_type": "markdown",
   "metadata": {},
   "source": [
    "## Exploratory Data Analysis (EDA)"
   ]
  },
  {
   "cell_type": "code",
   "execution_count": 8,
   "metadata": {
    "scrolled": true
   },
   "outputs": [
    {
     "name": "stderr",
     "output_type": "stream",
     "text": [
      "C:\\Users\\alimi\\anaconda3\\lib\\site-packages\\seaborn\\_decorators.py:36: FutureWarning: Pass the following variable as a keyword arg: x. From version 0.12, the only valid positional argument will be `data`, and passing other arguments without an explicit keyword will result in an error or misinterpretation.\n",
      "  warnings.warn(\n"
     ]
    },
    {
     "data": {
      "text/plain": [
       "<AxesSubplot:xlabel='label', ylabel='count'>"
      ]
     },
     "execution_count": 8,
     "metadata": {},
     "output_type": "execute_result"
    },
    {
     "data": {
      "image/png": "[encoded data removed]",
      "text/plain": [
       "<Figure size 432x288 with 1 Axes>"
      ]
     },
     "metadata": {
      "needs_background": "light"
     },
     "output_type": "display_data"
    }
   ],
   "source": [
    "# Checking the distribution of the labels\n",
    "sns.countplot(y_train)"
   ]
  },
  {
   "cell_type": "markdown",
   "metadata": {},
   "source": [
    "The label 1 notates the negative sentiments, 2 notates the positive sentiments, and 3 notates the neutral sentiments. From the plot above, we can see that the data is pretty unbalanced because most of the tweets that are on the training dataset are labeled as positive."
   ]
  },
  {
   "cell_type": "code",
   "execution_count": 9,
   "metadata": {
    "scrolled": false
   },
   "outputs": [],
   "source": [
    "# construct the training dataframe for further exploratory data analysis\n",
    "train_df = pd.concat([X_train, y_train], axis=1)"
   ]
  },
  {
   "cell_type": "markdown",
   "metadata": {},
   "source": [
    "### Splitting different classes to different dataframe"
   ]
  },
  {
   "cell_type": "code",
   "execution_count": 10,
   "metadata": {},
   "outputs": [],
   "source": [
    "train_positive = train_df[train_df['label'] == 2]\n",
    "train_negative = train_df[train_df['label'] == 1]\n",
    "train_neutral = train_df[train_df['label'] == 3]"
   ]
  },
  {
   "cell_type": "markdown",
   "metadata": {},
   "source": [
    "### Tokenizing each tweet on different classes\n",
    "Tokenization is the process of splitting a sentence into words"
   ]
  },
  {
   "cell_type": "code",
   "execution_count": 11,
   "metadata": {},
   "outputs": [],
   "source": [
    "words_positive = train_positive['tweet_without_newline'].apply(lambda x: str(x).split())\n",
    "words_negative = train_negative['tweet_without_newline'].apply(lambda x: str(x).split())\n",
    "words_neutral = train_neutral['tweet_without_newline'].apply(lambda x: str(x).split())"
   ]
  },
  {
   "cell_type": "markdown",
   "metadata": {},
   "source": [
    "### Removing stopwords and lemmatizing each token\n",
    "To see the words that are common on each class, we need to remove the stopwords and lemmatize each word into its root form."
   ]
  },
  {
   "cell_type": "code",
   "execution_count": 12,
   "metadata": {},
   "outputs": [],
   "source": [
    "stop_words = set(stopwords.words('english'))\n",
    "lemmatizer = WordNetLemmatizer()\n",
    "\n",
    "clean_words_positive = []\n",
    "for tweet in words_positive:\n",
    "    temp = []\n",
    "    for word in tweet:\n",
    "        if (word not in stop_words):\n",
    "            temp.append(lemmatizer.lemmatize(word.lower()))\n",
    "    clean_words_positive.append(temp)\n",
    "\n",
    "clean_words_negative = []\n",
    "for tweet in words_negative:\n",
    "    temp = []\n",
    "    for word in tweet:\n",
    "        if (word not in stop_words):\n",
    "            temp.append(lemmatizer.lemmatize(word.lower()))\n",
    "    clean_words_negative.append(temp)\n",
    "\n",
    "clean_words_neutral = []\n",
    "for tweet in words_neutral:\n",
    "    temp = []\n",
    "    for word in tweet:\n",
    "        if (word not in stop_words):\n",
    "            temp.append(lemmatizer.lemmatize(word.lower()))\n",
    "    clean_words_neutral.append(temp)"
   ]
  },
  {
   "cell_type": "markdown",
   "metadata": {},
   "source": [
    "### Counting how many times each word occurs"
   ]
  },
  {
   "cell_type": "code",
   "execution_count": 13,
   "metadata": {},
   "outputs": [],
   "source": [
    "top_words_positive = Counter([token for tokens in clean_words_positive for token in tokens])\n",
    "top_words_negative = Counter([token for tokens in clean_words_negative for token in tokens])\n",
    "top_words_neutral = Counter([token for tokens in clean_words_neutral for token in tokens])"
   ]
  },
  {
   "cell_type": "markdown",
   "metadata": {},
   "source": [
    "### Visualizing the most common words on each classes"
   ]
  },
  {
   "cell_type": "code",
   "execution_count": 14,
   "metadata": {},
   "outputs": [
    {
     "data": {
      "image/png": "[encoded data removed]",
      "text/plain": [
       "<Figure size 432x288 with 1 Axes>"
      ]
     },
     "metadata": {
      "needs_background": "light"
     },
     "output_type": "display_data"
    }
   ],
   "source": [
    "word = []\n",
    "counter = []\n",
    "for counts in top_words_positive.most_common(20):\n",
    "    word.append(counts[0])\n",
    "    counter.append(counts[1])\n",
    "\n",
    "chart = sns.barplot(x=counter,y=word)"
   ]
  },
  {
   "cell_type": "code",
   "execution_count": 15,
   "metadata": {},
   "outputs": [
    {
     "data": {
      "image/png": "[encoded data removed]",
      "text/plain": [
       "<Figure size 432x288 with 1 Axes>"
      ]
     },
     "metadata": {
      "needs_background": "light"
     },
     "output_type": "display_data"
    }
   ],
   "source": [
    "word = []\n",
    "counter = []\n",
    "for counts in top_words_negative.most_common(20):\n",
    "    word.append(counts[0])\n",
    "    counter.append(counts[1])\n",
    "\n",
    "chart = sns.barplot(x=counter,y=word)"
   ]
  },
  {
   "cell_type": "code",
   "execution_count": 16,
   "metadata": {},
   "outputs": [
    {
     "data": {
      "image/png": "[encoded data removed]",
      "text/plain": [
       "<Figure size 432x288 with 1 Axes>"
      ]
     },
     "metadata": {
      "needs_background": "light"
     },
     "output_type": "display_data"
    }
   ],
   "source": [
    "word = []\n",
    "counter = []\n",
    "for counts in top_words_neutral.most_common(20):\n",
    "    word.append(counts[0])\n",
    "    counter.append(counts[1])\n",
    "\n",
    "chart = sns.barplot(x=counter,y=word)"
   ]
  },
  {
   "cell_type": "markdown",
   "metadata": {},
   "source": [
    "From the visualization, we can see that most of the common words on each class are pretty similiar. For the positive class, most of the common words are the types of vaccines. For the negative class, the words that are unique to them are 'death' and 'effect'. For the neutral class, the words that are unique to them is 'got', which probably is the by product of tweets that are saying that they just got vaccinated. "
   ]
  },
  {
   "cell_type": "markdown",
   "metadata": {},
   "source": [
    "## Feature extraction\n",
    "\n",
    "For the feature extraction, I'm going to use TF-IDF"
   ]
  },
  {
   "cell_type": "code",
   "execution_count": 17,
   "metadata": {},
   "outputs": [],
   "source": [
    "tfidf = TfidfVectorizer(stop_words='english')"
   ]
  },
  {
   "cell_type": "code",
   "execution_count": 18,
   "metadata": {},
   "outputs": [
    {
     "data": {
      "text/plain": [
       "TfidfVectorizer(stop_words='english')"
      ]
     },
     "execution_count": 18,
     "metadata": {},
     "output_type": "execute_result"
    }
   ],
   "source": [
    "tfidf.fit(X_train)"
   ]
  },
  {
   "cell_type": "code",
   "execution_count": 19,
   "metadata": {},
   "outputs": [],
   "source": [
    "X_train_tfidf = tfidf.transform(X_train)\n",
    "X_test_tfidf = tfidf.transform(X_test)"
   ]
  },
  {
   "cell_type": "code",
   "execution_count": 20,
   "metadata": {},
   "outputs": [
    {
     "data": {
      "text/plain": [
       "<4020x12566 sparse matrix of type '<class 'numpy.float64'>'\n",
       "\twith 55905 stored elements in Compressed Sparse Row format>"
      ]
     },
     "execution_count": 20,
     "metadata": {},
     "output_type": "execute_result"
    }
   ],
   "source": [
    "X_train_tfidf"
   ]
  },
  {
   "cell_type": "markdown",
   "metadata": {},
   "source": [
    "## Modelling\n",
    "\n",
    "For the modelling phase, I will use SVM classifier as the baseline results. I might try to use deep learning approach for the next experiment."
   ]
  },
  {
   "cell_type": "code",
   "execution_count": 21,
   "metadata": {},
   "outputs": [],
   "source": [
    "svm_model = SVC(kernel = 'linear', C = 1)"
   ]
  },
  {
   "cell_type": "code",
   "execution_count": 22,
   "metadata": {},
   "outputs": [
    {
     "data": {
      "text/plain": [
       "SVC(C=1, kernel='linear')"
      ]
     },
     "execution_count": 22,
     "metadata": {},
     "output_type": "execute_result"
    }
   ],
   "source": [
    "svm_model.fit(X_train_tfidf, y_train)"
   ]
  },
  {
   "cell_type": "code",
   "execution_count": 23,
   "metadata": {},
   "outputs": [],
   "source": [
    "pred = svm_model.predict(X_test_tfidf)"
   ]
  },
  {
   "cell_type": "code",
   "execution_count": 24,
   "metadata": {},
   "outputs": [
    {
     "name": "stdout",
     "output_type": "stream",
     "text": [
      "              precision    recall  f1-score   support\n",
      "\n",
      "           1       0.41      0.07      0.12       124\n",
      "           2       0.76      0.88      0.82      1241\n",
      "           3       0.70      0.60      0.65       615\n",
      "\n",
      "    accuracy                           0.74      1980\n",
      "   macro avg       0.62      0.52      0.53      1980\n",
      "weighted avg       0.72      0.74      0.72      1980\n",
      "\n"
     ]
    }
   ],
   "source": [
    "print(classification_report(y_test, pred))"
   ]
  }
 ],
 "metadata": {
  "kernelspec": {
   "display_name": "Python 3",
   "language": "python",
   "name": "python3"
  },
  "language_info": {
   "codemirror_mode": {
    "name": "ipython",
    "version": 3
   },
   "file_extension": ".py",
   "mimetype": "text/x-python",
   "name": "python",
   "nbconvert_exporter": "python",
   "pygments_lexer": "ipython3",
   "version": "3.8.5"
  }
 },
 "nbformat": 4,
 "nbformat_minor": 4
}
